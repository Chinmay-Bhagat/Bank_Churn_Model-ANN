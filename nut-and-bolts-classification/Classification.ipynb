{
 "cells": [
  {
   "cell_type": "code",
   "execution_count": 1,
   "id": "cc5faf68",
   "metadata": {},
   "outputs": [],
   "source": [
    "import pandas as pd\n",
    "\n",
    "import tensorflow as tf\n",
    "\n",
    "from imutils import paths\n",
    "\n",
    "import cv2\n",
    "\n",
    "import numpy as np\n",
    "\n",
    "import matplotlib.pyplot as plt"
   ]
  },
  {
   "cell_type": "code",
   "execution_count": null,
   "id": "fb79213c",
   "metadata": {},
   "outputs": [],
   "source": [
    "mech_class = [ScrewPaths, BoltsPath]"
   ]
  },
  {
   "cell_type": "code",
   "execution_count": 2,
   "id": "dbbcf099",
   "metadata": {},
   "outputs": [],
   "source": [
    "ScrewPaths = list(paths.list_images('Screw'))\n",
    "# len(mportPaths"
   ]
  },
  {
   "cell_type": "code",
   "execution_count": 22,
   "id": "1e43a696",
   "metadata": {},
   "outputs": [
    {
     "data": {
      "text/plain": [
       "['data/nutBolt/images.jpeg',\n",
       " 'data/nutBolt/images (12).jpeg',\n",
       " 'data/nutBolt/images (54).jpeg',\n",
       " 'data/nutBolt/images (48).jpeg',\n",
       " 'data/nutBolt/img-hot-dip-galvanized-nut-bolt.jpg',\n",
       " 'data/nutBolt/download (15).jpeg',\n",
       " 'data/nutBolt/images (10).jpeg',\n",
       " 'data/nutBolt/images (14).jpeg',\n",
       " 'data/nutBolt/images (39).jpeg',\n",
       " 'data/nutBolt/images (42).jpeg',\n",
       " 'data/nutBolt/images (7).jpeg',\n",
       " 'data/nutBolt/download (14).jpeg',\n",
       " 'data/nutBolt/images (59).jpeg',\n",
       " 'data/nutBolt/images (17).jpeg',\n",
       " 'data/nutBolt/images (60).jpeg',\n",
       " 'data/nutBolt/images (20).jpeg',\n",
       " 'data/nutBolt/download (3).jpeg',\n",
       " 'data/nutBolt/images (55).jpeg',\n",
       " 'data/nutBolt/images (2).jpeg',\n",
       " 'data/nutBolt/images (64).jpeg',\n",
       " 'data/nutBolt/images (47).jpeg',\n",
       " 'data/nutBolt/images (45).jpeg',\n",
       " 'data/nutBolt/images (3).jpeg',\n",
       " 'data/nutBolt/images (30).jpeg',\n",
       " 'data/nutBolt/images (18).jpeg',\n",
       " 'data/nutBolt/images (62).jpeg',\n",
       " 'data/nutBolt/download (9).jpeg',\n",
       " 'data/nutBolt/images (58).jpeg',\n",
       " 'data/nutBolt/download (5).jpeg',\n",
       " 'data/nutBolt/images (69).jpeg',\n",
       " 'data/nutBolt/images (29).jpeg',\n",
       " 'data/nutBolt/download (8).jpeg',\n",
       " 'data/nutBolt/images (24).jpeg',\n",
       " 'data/nutBolt/images (11).jpeg',\n",
       " 'data/nutBolt/images (9).jpeg',\n",
       " 'data/nutBolt/download (16).jpeg',\n",
       " 'data/nutBolt/images (46).jpeg',\n",
       " 'data/nutBolt/images (36).jpeg',\n",
       " 'data/nutBolt/images (33).jpeg',\n",
       " 'data/nutBolt/images (63).jpeg',\n",
       " 'data/nutBolt/images (73).jpeg',\n",
       " 'data/nutBolt/images (41).jpeg',\n",
       " 'data/nutBolt/images (28).jpeg',\n",
       " 'data/nutBolt/images (31).jpeg',\n",
       " 'data/nutBolt/images (16).jpeg',\n",
       " 'data/nutBolt/images (72).jpeg',\n",
       " 'data/nutBolt/download (4).jpeg',\n",
       " 'data/nutBolt/download (13).jpeg',\n",
       " 'data/nutBolt/images (56).jpeg',\n",
       " 'data/nutBolt/images (40).jpeg',\n",
       " 'data/nutBolt/images (71).jpeg',\n",
       " 'data/nutBolt/images (61).jpeg',\n",
       " 'data/nutBolt/images (8).jpeg',\n",
       " 'data/nutBolt/images (5).jpeg',\n",
       " 'data/nutBolt/images (22).jpeg',\n",
       " 'data/nutBolt/images (51).jpeg',\n",
       " 'data/nutBolt/images (35).jpeg',\n",
       " 'data/nutBolt/images (43).jpeg',\n",
       " 'data/nutBolt/images (4).jpeg',\n",
       " 'data/nutBolt/images (19).jpeg',\n",
       " 'data/nutBolt/nuts-bolts-isolated-on-white-260nw-70959973.jpg',\n",
       " 'data/nutBolt/images (57).jpeg',\n",
       " 'data/nutBolt/images (13).jpeg',\n",
       " 'data/nutBolt/images (53).jpeg',\n",
       " 'data/nutBolt/download (7).jpeg',\n",
       " 'data/nutBolt/images (1).jpeg',\n",
       " 'data/nutBolt/bolt-nut-isolated-on-white-260nw-250800988.jpg',\n",
       " 'data/nutBolt/images (27).jpeg',\n",
       " 'data/nutBolt/download (2).jpeg',\n",
       " 'data/nutBolt/images (23).jpeg',\n",
       " 'data/nutBolt/images (49).jpeg',\n",
       " 'data/nutBolt/images (34).jpeg',\n",
       " 'data/nutBolt/images (25).jpeg',\n",
       " 'data/nutBolt/images (6).jpeg',\n",
       " 'data/nutBolt/images (15).jpeg',\n",
       " 'data/nutBolt/images (67).jpeg',\n",
       " 'data/nutBolt/images (52).jpeg',\n",
       " 'data/nutBolt/images (65).jpeg',\n",
       " 'data/nutBolt/download (1).jpeg',\n",
       " 'data/nutBolt/images (50).jpeg',\n",
       " 'data/nutBolt/ms-nut-bolt-500x500.jpg',\n",
       " 'data/nutBolt/images (26).jpeg',\n",
       " 'data/nutBolt/download (10).jpeg',\n",
       " 'data/nutBolt/stud-bolt-and-nuts-1654679636-6382927.jpeg',\n",
       " 'data/nutBolt/images (32).jpeg',\n",
       " 'data/nutBolt/images (68).jpeg',\n",
       " 'data/nutBolt/download (12).jpeg',\n",
       " 'data/nutBolt/images (70).jpeg',\n",
       " 'data/nutBolt/download.jpeg',\n",
       " 'data/nutBolt/images (38).jpeg',\n",
       " 'data/nutBolt/download (6).jpeg',\n",
       " 'data/nutBolt/images (37).jpeg',\n",
       " 'data/nutBolt/images (21).jpeg',\n",
       " 'data/nutBolt/download (11).jpeg',\n",
       " 'data/nutBolt/images (44).jpeg',\n",
       " 'data/nutBolt/images (66).jpeg',\n",
       " 'data/Screw/images.jpeg',\n",
       " 'data/Screw/images (12).jpeg',\n",
       " 'data/Screw/images (48).jpeg',\n",
       " 'data/Screw/images (10).jpeg',\n",
       " 'data/Screw/images (14).jpeg',\n",
       " 'data/Screw/images (39).jpeg',\n",
       " 'data/Screw/images (42).jpeg',\n",
       " 'data/Screw/images (7).jpeg',\n",
       " 'data/Screw/images (17).jpeg',\n",
       " 'data/Screw/images (20).jpeg',\n",
       " 'data/Screw/download (3).jpeg',\n",
       " 'data/Screw/images (2).jpeg',\n",
       " 'data/Screw/images (47).jpeg',\n",
       " 'data/Screw/images (45).jpeg',\n",
       " 'data/Screw/images (3).jpeg',\n",
       " 'data/Screw/images (30).jpeg',\n",
       " 'data/Screw/images (18).jpeg',\n",
       " 'data/Screw/download (5).jpeg',\n",
       " 'data/Screw/images (29).jpeg',\n",
       " 'data/Screw/images (24).jpeg',\n",
       " 'data/Screw/images (11).jpeg',\n",
       " 'data/Screw/images (9).jpeg',\n",
       " 'data/Screw/images (46).jpeg',\n",
       " 'data/Screw/images (36).jpeg',\n",
       " 'data/Screw/images (33).jpeg',\n",
       " 'data/Screw/images (41).jpeg',\n",
       " 'data/Screw/images (28).jpeg',\n",
       " 'data/Screw/images (31).jpeg',\n",
       " 'data/Screw/images (16).jpeg',\n",
       " 'data/Screw/download (4).jpeg',\n",
       " 'data/Screw/images (40).jpeg',\n",
       " 'data/Screw/images (8).jpeg',\n",
       " 'data/Screw/images (5).jpeg',\n",
       " 'data/Screw/images (22).jpeg',\n",
       " 'data/Screw/images (51).jpeg',\n",
       " 'data/Screw/images (35).jpeg',\n",
       " 'data/Screw/images (43).jpeg',\n",
       " 'data/Screw/images (4).jpeg',\n",
       " 'data/Screw/images (19).jpeg',\n",
       " 'data/Screw/images (13).jpeg',\n",
       " 'data/Screw/images (1).jpeg',\n",
       " 'data/Screw/images (27).jpeg',\n",
       " 'data/Screw/download (2).jpeg',\n",
       " 'data/Screw/images (23).jpeg',\n",
       " 'data/Screw/images (49).jpeg',\n",
       " 'data/Screw/images (34).jpeg',\n",
       " 'data/Screw/images (25).jpeg',\n",
       " 'data/Screw/images (6).jpeg',\n",
       " 'data/Screw/images (15).jpeg',\n",
       " 'data/Screw/download (1).jpeg',\n",
       " 'data/Screw/images (50).jpeg',\n",
       " 'data/Screw/images (26).jpeg',\n",
       " 'data/Screw/images (32).jpeg',\n",
       " 'data/Screw/images.png',\n",
       " 'data/Screw/download.jpeg',\n",
       " 'data/Screw/images (38).jpeg',\n",
       " 'data/Screw/images (37).jpeg',\n",
       " 'data/Screw/images (21).jpeg',\n",
       " 'data/Screw/images (44).jpeg']"
      ]
     },
     "execution_count": 22,
     "metadata": {},
     "output_type": "execute_result"
    }
   ],
   "source": [
    "BoltsPath = list(paths.list_images('data'))\n",
    "BoltsPath"
   ]
  },
  {
   "cell_type": "code",
   "execution_count": 4,
   "id": "5e8630b5",
   "metadata": {},
   "outputs": [],
   "source": [
    "SIZE = 150\n",
    "screw_images = []\n",
    "for i in ScrewPaths:\n",
    "  # print(type(i))\n",
    "    img = cv2.imread(i, cv2.IMREAD_COLOR)\n",
    "    img = cv2.resize(img, (SIZE, SIZE))\n",
    "    screw_images.append(img)"
   ]
  },
  {
   "cell_type": "code",
   "execution_count": 12,
   "id": "50a1b50f",
   "metadata": {},
   "outputs": [],
   "source": [
    "# screw_images[0]\n",
    "from tensorflow.keras import layers\n",
    "\n",
    "data_augmentation = tf.keras.Sequential([\n",
    "     layers.experimental.preprocessing.RandomFlip(\"horizontal_and_vertical\"),\n",
    "     layers.experimental.preprocessing.RandomRotation(0.2)])"
   ]
  },
  {
   "cell_type": "code",
   "execution_count": 16,
   "id": "60e9611a",
   "metadata": {},
   "outputs": [
    {
     "data": {
      "image/png": "[encoded data removed]",
      "text/plain": [
       "<Figure size 432x288 with 1 Axes>"
      ]
     },
     "metadata": {
      "needs_background": "light"
     },
     "output_type": "display_data"
    }
   ],
   "source": [
    "plt.imshow(screw_images[0])\n",
    "\n",
    "plt.show()"
   ]
  },
  {
   "cell_type": "code",
   "execution_count": null,
   "id": "a2327f91",
   "metadata": {},
   "outputs": [],
   "source": []
  },
  {
   "cell_type": "code",
   "execution_count": null,
   "id": "4a5ea2c9",
   "metadata": {},
   "outputs": [],
   "source": []
  }
 ],
 "metadata": {
  "kernelspec": {
   "display_name": "Python 3 (ipykernel)",
   "language": "python",
   "name": "python3"
  },
  "language_info": {
   "codemirror_mode": {
    "name": "ipython",
    "version": 3
   },
   "file_extension": ".py",
   "mimetype": "text/x-python",
   "name": "python",
   "nbconvert_exporter": "python",
   "pygments_lexer": "ipython3",
   "version": "3.9.12"
  }
 },
 "nbformat": 4,
 "nbformat_minor": 5
}
